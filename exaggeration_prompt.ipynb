{
 "cells": [
  {
   "cell_type": "markdown",
   "metadata": {},
   "source": [
    "### Imports"
   ]
  },
  {
   "cell_type": "code",
   "execution_count": 64,
   "metadata": {},
   "outputs": [],
   "source": [
    "import json\n",
    "import os\n",
    "import openai"
   ]
  },
  {
   "cell_type": "markdown",
   "metadata": {},
   "source": [
    "### Configuration and OpenAI API Setup\n",
    "\n",
    "- Loading the OpenAI API key from a configuration file."
   ]
  },
  {
   "cell_type": "code",
   "execution_count": 65,
   "metadata": {},
   "outputs": [],
   "source": [
    "with open('config.json') as config_file:\n",
    "    config = json.load(config_file)\n",
    "\n",
    "openai.api_key = config[\"OPENAI_API_KEY\"]\n"
   ]
  },
  {
   "cell_type": "markdown",
   "metadata": {},
   "source": [
    "### Description Generation Function\n",
    "\n",
    "- Defining a function to generate text prompts for an image generation tool based on specific words, incorporating stylistic and environmental details."
   ]
  },
  {
   "cell_type": "code",
   "execution_count": 66,
   "metadata": {},
   "outputs": [],
   "source": [
    "def generate_description(word):\n",
    "    prompt = f\"\"\"Generate a text prompt suitable for an image generation tool that captures the essence of \"{word}\".\n",
    "  **Style:** : random\n",
    "  **Focus:** : random\n",
    "  **Additional details:**\n",
    "  * Include specific characteristics relevant to \"{word}\" to enhance the visual representation.\n",
    "  * Consider incorporating elements like lighting, texture, and composition.\n",
    "  **Optional:**\n",
    "  * Setting: Briefly describe the environment surrounding the \"{word}\".\n",
    "  * Mood: Specify the desired mood or atmosphere.\n",
    "  * Color palette: (Optional) Mention specific colors or color combinations.\"\"\"\n",
    "    try:\n",
    "        response = openai.Completion.create(\n",
    "            engine=\"gpt-3.5-turbo-instruct\",  \n",
    "            prompt=prompt,\n",
    "            temperature=0.85,\n",
    "            max_tokens=200,  \n",
    "            top_p=1.0,\n",
    "            frequency_penalty=0.0,\n",
    "            presence_penalty=0.0\n",
    "        )\n",
    "        return response.choices[0].text.strip()\n",
    "    except Exception as e:\n",
    "        print(f\"Error generating description: {e}\")\n",
    "        return None"
   ]
  },
  {
   "cell_type": "markdown",
   "metadata": {},
   "source": [
    "### Batch Processing and Output\n",
    "\n",
    "- Executing the description generation function on a list of words and printing the generated descriptions for each word."
   ]
  },
  {
   "cell_type": "code",
   "execution_count": 67,
   "metadata": {},
   "outputs": [
    {
     "name": "stdout",
     "output_type": "stream",
     "text": [
      "Description 1 for 'cat': \"Generate a whimsical feline portrait with a mix of textures and bold colors. Set in a cozy window sill with warm sunlight streaming in, the mischievous cat is perched amongst a sea of plush pillows, its fur glistening with playful highlights. Whether lounging in tranquility or ready to pounce, capture the essence of this curious creature with your unique style.\"\n",
      "\n",
      "Description 2 for 'crab': \"Bring to life a vibrant crab basking in the warm, golden glow of a sunset. Let its multi-hued shell shine with intricate patterns and textures, while its sharp claws glisten in the fading light. Capture the essence of the lively beach environment surrounding the crab, with crashing waves and sun-kissed sand. Embrace a whimsical and playful mood, with a splash of coral and teal in the color palette.\"\n",
      "\n",
      "Description 3 for 'lock': \"Create a mysterious lock with a vintage iron texture, bathed in dim candlelight. The lock should have intricate details and a rusty, weathered appearance, resting on a wooden door with faded paint. The overall mood should be eerie and foreboding, with a color palette of dark, earthy tones.\"\n",
      "\n"
     ]
    }
   ],
   "source": [
    "words = [\"cat\", \"crab\", \"lock\"]\n",
    "descriptions = [generate_description(word) for word in words]\n",
    "\n",
    "for i, description in enumerate(descriptions, 1):\n",
    "    if description:\n",
    "        print(f\"Description {i} for '{words[i-1]}': {description}\\n\")\n",
    "    else:\n",
    "        print(f\"Description {i} failed to generate.\\n\")"
   ]
  }
 ],
 "metadata": {
  "kernelspec": {
   "display_name": "epicity",
   "language": "python",
   "name": "python3"
  },
  "language_info": {
   "codemirror_mode": {
    "name": "ipython",
    "version": 3
   },
   "file_extension": ".py",
   "mimetype": "text/x-python",
   "name": "python",
   "nbconvert_exporter": "python",
   "pygments_lexer": "ipython3",
   "version": "3.10.13"
  }
 },
 "nbformat": 4,
 "nbformat_minor": 2
}
