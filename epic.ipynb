{
 "cells": [
  {
   "cell_type": "markdown",
   "metadata": {},
   "source": [
    "*Neural Network*\n",
    "\n",
    "What we'll do:\n",
    "\n",
    "1. Generate, load & visualize the training data\n",
    "2. Design the network\n",
    "3. Train & export the model\n",
    "4. Convert the model to TFLite"
   ]
  },
  {
   "cell_type": "code",
   "execution_count": 1,
   "metadata": {},
   "outputs": [
    {
     "ename": "NameError",
     "evalue": "name 'true' is not defined",
     "output_type": "error",
     "traceback": [
      "\u001b[1;31m---------------------------------------------------------------------------\u001b[0m",
      "\u001b[1;31mNameError\u001b[0m                                 Traceback (most recent call last)",
      "Cell \u001b[1;32mIn[1], line 6\u001b[0m\n\u001b[0;32m      1\u001b[0m {\n\u001b[0;32m      2\u001b[0m   \u001b[38;5;124m\"\u001b[39m\u001b[38;5;124mkey_id\u001b[39m\u001b[38;5;124m\"\u001b[39m:\u001b[38;5;124m\"\u001b[39m\u001b[38;5;124m5891796615823360\u001b[39m\u001b[38;5;124m\"\u001b[39m,\n\u001b[0;32m      3\u001b[0m   \u001b[38;5;124m\"\u001b[39m\u001b[38;5;124mword\u001b[39m\u001b[38;5;124m\"\u001b[39m:\u001b[38;5;124m\"\u001b[39m\u001b[38;5;124mnose\u001b[39m\u001b[38;5;124m\"\u001b[39m,\n\u001b[0;32m      4\u001b[0m   \u001b[38;5;124m\"\u001b[39m\u001b[38;5;124mcountrycode\u001b[39m\u001b[38;5;124m\"\u001b[39m:\u001b[38;5;124m\"\u001b[39m\u001b[38;5;124mAE\u001b[39m\u001b[38;5;124m\"\u001b[39m,\n\u001b[0;32m      5\u001b[0m   \u001b[38;5;124m\"\u001b[39m\u001b[38;5;124mtimestamp\u001b[39m\u001b[38;5;124m\"\u001b[39m:\u001b[38;5;124m\"\u001b[39m\u001b[38;5;124m2017-03-01 20:41:36.70725 UTC\u001b[39m\u001b[38;5;124m\"\u001b[39m,\n\u001b[1;32m----> 6\u001b[0m   \u001b[38;5;124m\"\u001b[39m\u001b[38;5;124mrecognized\u001b[39m\u001b[38;5;124m\"\u001b[39m:\u001b[43mtrue\u001b[49m,\n\u001b[0;32m      7\u001b[0m   \u001b[38;5;124m\"\u001b[39m\u001b[38;5;124mdrawing\u001b[39m\u001b[38;5;124m\"\u001b[39m:[[[\u001b[38;5;241m129\u001b[39m,\u001b[38;5;241m128\u001b[39m,\u001b[38;5;241m129\u001b[39m,\u001b[38;5;241m129\u001b[39m,\u001b[38;5;241m130\u001b[39m,\u001b[38;5;241m130\u001b[39m,\u001b[38;5;241m131\u001b[39m,\u001b[38;5;241m132\u001b[39m,\u001b[38;5;241m132\u001b[39m,\u001b[38;5;241m133\u001b[39m,\u001b[38;5;241m133\u001b[39m,\u001b[38;5;241m133\u001b[39m,\u001b[38;5;241m133\u001b[39m,\u001b[38;5;241m.\u001b[39m\u001b[38;5;241m.\u001b[39m\u001b[38;5;241m.\u001b[39m]]]\n\u001b[0;32m      8\u001b[0m }\n",
      "\u001b[1;31mNameError\u001b[0m: name 'true' is not defined"
     ]
    }
   ],
   "source": [
    "{\n",
    "  \"key_id\":\"5891796615823360\",\n",
    "  \"word\":\"nose\",\n",
    "  \"countrycode\":\"AE\",\n",
    "  \"timestamp\":\"2017-03-01 20:41:36.70725 UTC\",\n",
    "  \"recognized\":true,\n",
    "  \"drawing\":[[[129,128,129,129,130,130,131,132,132,133,133,133,133,...]]]\n",
    "}"
   ]
  },
  {
   "cell_type": "code",
   "execution_count": null,
   "metadata": {},
   "outputs": [],
   "source": [
    "[\n",
    "  [  // First stroke\n",
    "    [x0, x1, x2, x3, ...],\n",
    "    [y0, y1, y2, y3, ...],\n",
    "    [t0, t1, t2, t3, ...]\n",
    "  ],\n",
    "  [  // Second stroke\n",
    "    [x0, x1, x2, x3, ...],\n",
    "    [y0, y1, y2, y3, ...],\n",
    "    [t0, t1, t2, t3, ...]\n",
    "  ],\n",
    "  ... // Additional strokes\n",
    "]"
   ]
  },
  {
   "cell_type": "code",
   "execution_count": 2,
   "metadata": {},
   "outputs": [
    {
     "ename": "NameError",
     "evalue": "name 'QuickDrawData' is not defined",
     "output_type": "error",
     "traceback": [
      "\u001b[1;31m---------------------------------------------------------------------------\u001b[0m",
      "\u001b[1;31mNameError\u001b[0m                                 Traceback (most recent call last)",
      "Cell \u001b[1;32mIn[2], line 14\u001b[0m\n\u001b[0;32m     11\u001b[0m         filename \u001b[38;5;241m=\u001b[39m directory\u001b[38;5;241m.\u001b[39mas_posix() \u001b[38;5;241m+\u001b[39m \u001b[38;5;124m\"\u001b[39m\u001b[38;5;124m/\u001b[39m\u001b[38;5;124m\"\u001b[39m \u001b[38;5;241m+\u001b[39m \u001b[38;5;28mstr\u001b[39m(img\u001b[38;5;241m.\u001b[39mkey_id) \u001b[38;5;241m+\u001b[39m \u001b[38;5;124m\"\u001b[39m\u001b[38;5;124m.png\u001b[39m\u001b[38;5;124m\"\u001b[39m\n\u001b[0;32m     12\u001b[0m         img\u001b[38;5;241m.\u001b[39mget_image(stroke_width\u001b[38;5;241m=\u001b[39m\u001b[38;5;241m3\u001b[39m)\u001b[38;5;241m.\u001b[39mresize(image_size)\u001b[38;5;241m.\u001b[39msave(filename)\n\u001b[1;32m---> 14\u001b[0m \u001b[38;5;28;01mfor\u001b[39;00m label \u001b[38;5;129;01min\u001b[39;00m \u001b[43mQuickDrawData\u001b[49m()\u001b[38;5;241m.\u001b[39mdrawing_names:\n\u001b[0;32m     15\u001b[0m     generate_class_images(label, max_drawings\u001b[38;5;241m=\u001b[39m\u001b[38;5;241m1200\u001b[39m, recognized\u001b[38;5;241m=\u001b[39m\u001b[38;5;28;01mTrue\u001b[39;00m)\n",
      "\u001b[1;31mNameError\u001b[0m: name 'QuickDrawData' is not defined"
     ]
    }
   ],
   "source": [
    "image_size = (28, 28)\n",
    "\n",
    "def generate_class_images(name, max_drawings, recognized):\n",
    "    directory = Path(\"dataset/\" + name)\n",
    "\n",
    "    if not directory.exists():\n",
    "        directory.mkdir(parents=True)\n",
    "\n",
    "    images = QuickDrawDataGroup(name, max_drawings=max_drawings, recognized=recognized)\n",
    "    for img in images.drawings:\n",
    "        filename = directory.as_posix() + \"/\" + str(img.key_id) + \".png\"\n",
    "        img.get_image(stroke_width=3).resize(image_size).save(filename)\n",
    "\n",
    "for label in QuickDrawData().drawing_names:\n",
    "    generate_class_images(label, max_drawings=1200, recognized=True)"
   ]
  },
  {
   "cell_type": "code",
   "execution_count": null,
   "metadata": {},
   "outputs": [],
   "source": []
  }
 ],
 "metadata": {
  "kernelspec": {
   "display_name": "epicity",
   "language": "python",
   "name": "python3"
  },
  "language_info": {
   "codemirror_mode": {
    "name": "ipython",
    "version": 3
   },
   "file_extension": ".py",
   "mimetype": "text/x-python",
   "name": "python",
   "nbconvert_exporter": "python",
   "pygments_lexer": "ipython3",
   "version": "3.8.18"
  }
 },
 "nbformat": 4,
 "nbformat_minor": 2
}
